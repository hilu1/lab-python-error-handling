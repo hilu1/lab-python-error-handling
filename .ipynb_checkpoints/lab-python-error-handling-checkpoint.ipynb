{
 "cells": [
  {
   "cell_type": "markdown",
   "id": "25d7736c-ba17-4aff-b6bb-66eba20fbf4e",
   "metadata": {},
   "source": [
    "# Lab | Error Handling"
   ]
  },
  {
   "cell_type": "code",
   "execution_count": null,
   "id": "60d9e87b-6870-4352-a710-2b3c8d75c668",
   "metadata": {},
   "outputs": [],
   "source": []
  },
  {
   "cell_type": "markdown",
   "id": "bc99b386-7508-47a0-bcdb-d969deaf6c8b",
   "metadata": {},
   "source": [
    "## Exercise: Error Handling for Managing Customer Orders\n",
    "\n",
    "The implementation of your code for managing customer orders assumes that the user will always enter a valid input. \n",
    "\n",
    "For example, we could modify the `initialize_inventory` function to include error handling.\n",
    "   - If the user enters an invalid quantity (e.g., a negative value or a non-numeric value), display an error message and ask them to re-enter the quantity for that product.\n",
    "   - Use a try-except block to handle the error and continue prompting the user until a valid quantity is entered.\n",
    "\n",
    "```python\n",
    "# Step 1: Define the function for initializing the inventory with error handling\n",
    "def initialize_inventory(products):\n",
    "    inventory = {}\n",
    "    for product in products:\n",
    "        valid_quantity = False\n",
    "        while not valid_quantity:\n",
    "            try:\n",
    "                quantity = int(input(f\"Enter the quantity of {product}s available: \"))\n",
    "                if quantity < 0:\n",
    "                    raise ValueError(\"Invalid quantity! Please enter a non-negative value.\")\n",
    "                valid_quantity = True\n",
    "            except ValueError as error:\n",
    "                print(f\"Error: {error}\")\n",
    "        inventory[product] = quantity\n",
    "    return inventory\n",
    "\n",
    "# Or, in another way:\n",
    "\n",
    "def initialize_inventory(products):\n",
    "    inventory = {}\n",
    "    for product in products:\n",
    "        valid_input = False\n",
    "        while not valid_input:\n",
    "            try:\n",
    "                quantity = int(input(f\"Enter the quantity of {product}s available: \"))\n",
    "                if quantity >= 0:\n",
    "                    inventory[product] = quantity\n",
    "                    valid_input = True\n",
    "                else:\n",
    "                    print(\"Quantity cannot be negative. Please enter a valid quantity.\")\n",
    "            except ValueError:\n",
    "                print(\"Invalid input. Please enter a valid quantity.\")\n",
    "    return inventory\n",
    "```\n",
    "\n",
    "Let's enhance your code by implementing error handling to handle invalid inputs.\n",
    "\n",
    "Follow the steps below to complete the exercise:\n",
    "\n",
    "2. Modify the `calculate_total_price` function to include error handling.\n",
    "   - If the user enters an invalid price (e.g., a negative value or a non-numeric value), display an error message and ask them to re-enter the price for that product.\n",
    "   - Use a try-except block to handle the error and continue prompting the user until a valid price is entered.\n",
    "\n",
    "3. Modify the `get_customer_orders` function to include error handling.\n",
    "   - If the user enters an invalid number of orders (e.g., a negative value or a non-numeric value), display an error message and ask them to re-enter the number of orders.\n",
    "   - If the user enters an invalid product name (e.g., a product name that is not in the inventory), or that doesn't have stock available, display an error message and ask them to re-enter the product name. *Hint: you will need to pass inventory as a parameter*\n",
    "   - Use a try-except block to handle the error and continue prompting the user until a valid product name is entered.\n",
    "\n",
    "4. Test your code by running the program and deliberately entering invalid quantities and product names. Make sure the error handling mechanism works as expected.\n"
   ]
  },
  {
   "cell_type": "code",
   "execution_count": 2,
   "id": "6f73af41-874e-46b0-87ba-dcadfcb1f40b",
   "metadata": {},
   "outputs": [
    {
     "name": "stdin",
     "output_type": "stream",
     "text": [
      "Enter the price of mug:  -2\n"
     ]
    },
    {
     "name": "stdout",
     "output_type": "stream",
     "text": [
      "Error: Price cannot be negative. Please enter a valid price.\n"
     ]
    },
    {
     "name": "stdin",
     "output_type": "stream",
     "text": [
      "Enter the price of mug:  2\n",
      "Enter the price of hat:  9\n",
      "Enter the price of Book:  15\n"
     ]
    },
    {
     "name": "stdout",
     "output_type": "stream",
     "text": [
      "\n",
      "Total Price of Your Order: $26.00\n"
     ]
    },
    {
     "data": {
      "text/plain": [
       "26.0"
      ]
     },
     "execution_count": 2,
     "metadata": {},
     "output_type": "execute_result"
    }
   ],
   "source": [
    "# Step 1: Define the function for initializing the inventory with error handling\n",
    "def initialize_inventory(products):\n",
    "    inventory = {}\n",
    "    for product in products:\n",
    "        valid_quantity = False\n",
    "        while not valid_quantity:\n",
    "            try:\n",
    "                quantity = int(input(f\"Enter the quantity of {product}s available: \"))\n",
    "                if quantity < 0:\n",
    "                    raise ValueError(\"Invalid quantity! Please enter a non-negative value.\")\n",
    "                valid_quantity = True\n",
    "            except ValueError as error:\n",
    "                print(f\"Error: {error}\")\n",
    "        inventory[product] = quantity\n",
    "    return inventory\n",
    "   # Function to calculate and print the total price of the customer order with error handling\n",
    "def calculate_total_price(customer_orders):\n",
    "    if not customer_orders:\n",
    "        print(\"No items were ordered. Total Price: $0.00\")\n",
    "        return 0.0\n",
    "\n",
    "    prices = {}\n",
    "\n",
    "    for product in customer_orders:\n",
    "        while True:\n",
    "            try:\n",
    "                price = float(input(f\"Enter the price of {product}: \"))\n",
    "                if price < 0:\n",
    "                    print(\"Error: Price cannot be negative. Please enter a valid price.\")\n",
    "                else:\n",
    "                    prices[product] = price\n",
    "                    break  # Exit loop when a valid price is entered\n",
    "            except ValueError:\n",
    "                print(\"Invalid input! Please enter a valid numeric price.\")\n",
    "\n",
    "    # Calculate the total price\n",
    "    total_price = sum(prices[product] for product in customer_orders)\n",
    "\n",
    "    # Print the total price\n",
    "    print(f\"\\nTotal Price of Your Order: ${total_price:.2f}\")\n",
    "\n",
    "    return total_price  # Return the total cost\n",
    "\n",
    "\n",
    "# **Calling the function to ensure it runs**\n",
    "customer_orders = [\"mug\", \"hat\",\"Book\"]  # Example orders (Replace this with user inputs in your program)\n",
    "calculate_total_price(customer_orders)  # Call the function with example orders\n",
    "\n"
   ]
  },
  {
   "cell_type": "code",
   "execution_count": 4,
   "id": "c53b5e63-58ad-43d1-bc74-7972c80ad93e",
   "metadata": {},
   "outputs": [
    {
     "name": "stdin",
     "output_type": "stream",
     "text": [
      "Enter the quantity of t-shirts available:  8\n",
      "Enter the quantity of mugs available:  18\n",
      "Enter the quantity of hats available:  -3\n"
     ]
    },
    {
     "name": "stdout",
     "output_type": "stream",
     "text": [
      "Quantity cannot be negative. Please enter a valid quantity.\n"
     ]
    },
    {
     "name": "stdin",
     "output_type": "stream",
     "text": [
      "Enter the quantity of hats available:  8\n",
      "Enter the quantity of books available:  -4\n"
     ]
    },
    {
     "name": "stdout",
     "output_type": "stream",
     "text": [
      "Quantity cannot be negative. Please enter a valid quantity.\n"
     ]
    },
    {
     "name": "stdin",
     "output_type": "stream",
     "text": [
      "Enter the quantity of books available:  28\n",
      "Enter the quantity of keychains available:  15\n",
      "Enter the number of products you want to order:  -6\n"
     ]
    },
    {
     "name": "stdout",
     "output_type": "stream",
     "text": [
      "You must order at least one item.\n"
     ]
    },
    {
     "name": "stdin",
     "output_type": "stream",
     "text": [
      "Enter the number of products you want to order:  2\n",
      "Enter product 1:  mug\n",
      "Enter product 2:  pen\n"
     ]
    },
    {
     "name": "stdout",
     "output_type": "stream",
     "text": [
      "\n",
      "These items are not available and will be ignored: pen\n"
     ]
    },
    {
     "name": "stdin",
     "output_type": "stream",
     "text": [
      "Enter the price of mug:  2\n"
     ]
    },
    {
     "name": "stdout",
     "output_type": "stream",
     "text": [
      "\n",
      "Total Price of Your Order: $2.00\n",
      "\n",
      "Updated Inventory:\n",
      "T-shirt: 8 left\n",
      "Mug: 18 left\n",
      "Hat: 8 left\n",
      "Book: 28 left\n",
      "Keychain: 15 left\n",
      "\n",
      "Thank you for your order!\n"
     ]
    }
   ],
   "source": [
    "# Function to initialize inventory with error handling\n",
    "def initialize_inventory(products):\n",
    "    inventory = {}\n",
    "    for product in products:\n",
    "        while True:\n",
    "            try:\n",
    "                quantity = int(input(f\"Enter the quantity of {product}s available: \"))\n",
    "                if quantity < 0:\n",
    "                    print(\"Quantity cannot be negative. Please enter a valid quantity.\")\n",
    "                else:\n",
    "                    inventory[product] = quantity\n",
    "                    break\n",
    "            except ValueError:\n",
    "                print(\"Invalid input. Please enter a valid quantity.\")\n",
    "    return inventory\n",
    "\n",
    "# Function to get customer orders with error handling\n",
    "def get_customer_orders(products):\n",
    "    while True:\n",
    "        try:\n",
    "            num_orders = int(input(\"Enter the number of products you want to order: \"))\n",
    "            if num_orders < 1:\n",
    "                print(\"You must order at least one item.\")\n",
    "                continue\n",
    "            break\n",
    "        except ValueError:\n",
    "            print(\"Invalid input! Please enter a valid number.\")\n",
    "\n",
    "    # Collect valid product names\n",
    "    orders = [input(f\"Enter product {i+1}: \").strip().lower() for i in range(num_orders)]\n",
    "\n",
    "    # Filter out invalid products\n",
    "    valid_orders = [order for order in orders if order in products]\n",
    "    invalid_orders = [order for order in orders if order not in products]\n",
    "\n",
    "    if invalid_orders:\n",
    "        print(f\"\\nThese items are not available and will be ignored: {', '.join(invalid_orders)}\")\n",
    "\n",
    "    return valid_orders\n",
    "\n",
    "# Function to calculate total price with error handling\n",
    "def calculate_total_price(customer_orders):\n",
    "    if not customer_orders:\n",
    "        print(\"No items were ordered. Total Price: $0.00\")\n",
    "        return 0.0\n",
    "\n",
    "    prices = {}\n",
    "\n",
    "    for product in customer_orders:\n",
    "        while True:\n",
    "            try:\n",
    "                price = float(input(f\"Enter the price of {product}: \"))\n",
    "                if price < 0:\n",
    "                    print(\"Error: Price cannot be negative. Please enter a valid price.\")\n",
    "                else:\n",
    "                    prices[product] = price\n",
    "                    break\n",
    "            except ValueError:\n",
    "                print(\"Invalid input! Please enter a valid numeric price.\")\n",
    "\n",
    "    # Calculate and print total price\n",
    "    total_price = sum(prices[product] for product in customer_orders)\n",
    "    print(f\"\\nTotal Price of Your Order: ${total_price:.2f}\")\n",
    "\n",
    "    return total_price\n",
    "\n",
    "# Function to print updated inventory\n",
    "def print_inventory(inventory):\n",
    "    print(\"\\nUpdated Inventory:\")\n",
    "    if inventory:\n",
    "        for product, quantity in inventory.items():\n",
    "            print(f\"{product.capitalize()}: {quantity} left\")\n",
    "    else:\n",
    "        print(\"All products are out of stock!\")\n",
    "\n",
    "# **Testing the Code**\n",
    "products = [\"t-shirt\", \"mug\", \"hat\", \"book\", \"keychain\"]\n",
    "\n",
    "# Step 1: Initialize inventory\n",
    "inventory = initialize_inventory(products)\n",
    "\n",
    "# Step 2: Get customer orders\n",
    "customer_orders = get_customer_orders(products)\n",
    "\n",
    "# Step 3: Calculate total price\n",
    "calculate_total_price(customer_orders)\n",
    "\n",
    "# Step 4: Print updated inventory\n",
    "print_inventory(inventory)\n",
    "\n",
    "print(\"\\nThank you for your order!\")\n"
   ]
  },
  {
   "cell_type": "code",
   "execution_count": null,
   "id": "0a1422a8-6b2b-475f-9f4f-2aa489653fd0",
   "metadata": {},
   "outputs": [],
   "source": []
  }
 ],
 "metadata": {
  "kernelspec": {
   "display_name": "Python [conda env:base] *",
   "language": "python",
   "name": "conda-base-py"
  },
  "language_info": {
   "codemirror_mode": {
    "name": "ipython",
    "version": 3
   },
   "file_extension": ".py",
   "mimetype": "text/x-python",
   "name": "python",
   "nbconvert_exporter": "python",
   "pygments_lexer": "ipython3",
   "version": "3.12.7"
  }
 },
 "nbformat": 4,
 "nbformat_minor": 5
}
